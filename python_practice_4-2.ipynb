{
  "nbformat": 4,
  "nbformat_minor": 0,
  "metadata": {
    "colab": {
      "provenance": []
    },
    "kernelspec": {
      "name": "python3",
      "display_name": "Python 3"
    },
    "language_info": {
      "name": "python"
    }
  },
  "cells": [
    {
      "cell_type": "markdown",
      "source": [
        "# I. Functions. Arguments."
      ],
      "metadata": {
        "id": "kXpppdVm6wFy"
      }
    },
    {
      "cell_type": "markdown",
      "source": [
        "1. (5б) Назвіть основні 4 смислові  частини, з яких складається функція."
      ],
      "metadata": {
        "id": "u_krJdlbAkVz"
      }
    },
    {
      "cell_type": "markdown",
      "source": [
        "У Python функція складається з імені (як її викликати), параметрів (що передаємо), тіла (що вона робить) і результату (що повертає через return)."
      ],
      "metadata": {
        "id": "KKTrTXmHAptb"
      }
    },
    {
      "cell_type": "markdown",
      "source": [
        "2. (3б) Визначте функцію, що приймає 2 аргументи та повертає результат ділення 1го аргумента на інший."
      ],
      "metadata": {
        "id": "ORM4PqJQAtDM"
      }
    },
    {
      "cell_type": "code",
      "execution_count": 1,
      "metadata": {
        "id": "EuDx-z8M6sLo"
      },
      "outputs": [],
      "source": [
        "def divide(x, y):\n",
        "    return x / y"
      ]
    },
    {
      "cell_type": "markdown",
      "source": [
        "3. (2б) Викличте вище визначену функцію, де другий аргумент дорівнює 0."
      ],
      "metadata": {
        "id": "5joQGQ-SAyMe"
      }
    },
    {
      "cell_type": "code",
      "source": [
        "result = divide(10, 0)\n",
        "print(result)"
      ],
      "metadata": {
        "id": "V5cBV1LOA3d-",
        "colab": {
          "base_uri": "https://localhost:8080/",
          "height": 224
        },
        "outputId": "3025df3f-4cb4-4fe0-b499-dcbd5c23348f"
      },
      "execution_count": 2,
      "outputs": [
        {
          "output_type": "error",
          "ename": "ZeroDivisionError",
          "evalue": "division by zero",
          "traceback": [
            "\u001b[0;31m---------------------------------------------------------------------------\u001b[0m",
            "\u001b[0;31mZeroDivisionError\u001b[0m                         Traceback (most recent call last)",
            "\u001b[0;32m<ipython-input-2-655bd01743c9>\u001b[0m in \u001b[0;36m<cell line: 0>\u001b[0;34m()\u001b[0m\n\u001b[0;32m----> 1\u001b[0;31m \u001b[0mresult\u001b[0m \u001b[0;34m=\u001b[0m \u001b[0mdivide\u001b[0m\u001b[0;34m(\u001b[0m\u001b[0;36m10\u001b[0m\u001b[0;34m,\u001b[0m \u001b[0;36m0\u001b[0m\u001b[0;34m)\u001b[0m\u001b[0;34m\u001b[0m\u001b[0;34m\u001b[0m\u001b[0m\n\u001b[0m\u001b[1;32m      2\u001b[0m \u001b[0mprint\u001b[0m\u001b[0;34m(\u001b[0m\u001b[0mresult\u001b[0m\u001b[0;34m)\u001b[0m\u001b[0;34m\u001b[0m\u001b[0;34m\u001b[0m\u001b[0m\n",
            "\u001b[0;32m<ipython-input-1-78cbfed699b9>\u001b[0m in \u001b[0;36mdivide\u001b[0;34m(x, y)\u001b[0m\n\u001b[1;32m      1\u001b[0m \u001b[0;32mdef\u001b[0m \u001b[0mdivide\u001b[0m\u001b[0;34m(\u001b[0m\u001b[0mx\u001b[0m\u001b[0;34m,\u001b[0m \u001b[0my\u001b[0m\u001b[0;34m)\u001b[0m\u001b[0;34m:\u001b[0m\u001b[0;34m\u001b[0m\u001b[0;34m\u001b[0m\u001b[0m\n\u001b[0;32m----> 2\u001b[0;31m     \u001b[0;32mreturn\u001b[0m \u001b[0mx\u001b[0m \u001b[0;34m/\u001b[0m \u001b[0my\u001b[0m\u001b[0;34m\u001b[0m\u001b[0;34m\u001b[0m\u001b[0m\n\u001b[0m",
            "\u001b[0;31mZeroDivisionError\u001b[0m: division by zero"
          ]
        }
      ]
    },
    {
      "cell_type": "markdown",
      "source": [
        "4. (4б) Перевизначте функцію так, щоби у випадку ділення на 0 функція повертала None, а в решті випадків - результат розрахунків."
      ],
      "metadata": {
        "id": "QyimWgW8A43-"
      }
    },
    {
      "cell_type": "code",
      "source": [
        "def divide(x, y):\n",
        "    if y == 0:\n",
        "        return None\n",
        "    return x / y\n",
        "\n",
        "result = divide(10, 0)\n",
        "print(result)"
      ],
      "metadata": {
        "id": "7VIODtSjA8Ek",
        "colab": {
          "base_uri": "https://localhost:8080/"
        },
        "outputId": "26acc024-e58b-43a5-ee3d-a869b16b2399"
      },
      "execution_count": 5,
      "outputs": [
        {
          "output_type": "stream",
          "name": "stdout",
          "text": [
            "None\n"
          ]
        }
      ]
    },
    {
      "cell_type": "markdown",
      "source": [
        "5. (5б) Визначте функцію, що віднімає одне число від іншого (підказка: це буде 2 аргументи функції). При чому, якщо не визначити, скільки саме має бути віднято від числа, за замовчуванням має відніматися 1. Викличте функцію, передаючи тільки один аргумент."
      ],
      "metadata": {
        "id": "Y8mN0GfkA81l"
      }
    },
    {
      "cell_type": "code",
      "source": [
        "def subtract(x, y=1):\n",
        "    return x - y\n",
        "\n",
        "result = subtract(10)\n",
        "print(result)"
      ],
      "metadata": {
        "id": "vg1kxkdgBA50",
        "colab": {
          "base_uri": "https://localhost:8080/"
        },
        "outputId": "b618860f-325c-4c29-ffa5-bdc15538f72b"
      },
      "execution_count": 7,
      "outputs": [
        {
          "output_type": "stream",
          "name": "stdout",
          "text": [
            "9\n"
          ]
        }
      ]
    },
    {
      "cell_type": "markdown",
      "source": [
        "6. (7б) Визначте функцію, яка приймає iterable (ітерабельний обʼєкт, напр. список), що складається з 7ми рядкових значень - назв погодних умов (напр. \"sunny\") за кожен день у тижні. Повертає функція словник, де ключами є рядки з погодними умовами, а значеннями - кількість разів, скільки дана погода була протягом тижня (напр. {'sunny': 1, ...}). Викличте цю функцію та виведіть результат її роботи на екран."
      ],
      "metadata": {
        "id": "D3mwQGNOBBs4"
      }
    },
    {
      "cell_type": "code",
      "source": [
        "def weather_count(week_weather):\n",
        "    weather_dict = {}\n",
        "    for condition in week_weather:\n",
        "        if condition in weather_dict:\n",
        "            weather_dict[condition] += 1\n",
        "        else:\n",
        "            weather_dict[condition] = 1\n",
        "    return weather_dict\n",
        "week_data = ['sunny', 'rainy', 'cloudy', 'sunny', 'cloudy', 'windy', 'rainy']\n",
        "result = weather_count(week_data)\n",
        "print(result)"
      ],
      "metadata": {
        "id": "OsWm-hKcBFyn",
        "colab": {
          "base_uri": "https://localhost:8080/"
        },
        "outputId": "b84975ce-568c-45f4-d25e-0de9d6e9bf11"
      },
      "execution_count": 8,
      "outputs": [
        {
          "output_type": "stream",
          "name": "stdout",
          "text": [
            "{'sunny': 2, 'rainy': 2, 'cloudy': 2, 'windy': 1}\n"
          ]
        }
      ]
    },
    {
      "cell_type": "markdown",
      "source": [
        "7. (15б) Напишіть програму, яка б шукала необхідне число у впорядкованому списку цілочислених значень, де\n",
        "число має вводитись з консолі.\n",
        "власне алгоритм пошуку винесений в окрему функцію, яка повертає булеве значення (знайдено число - True, не знайдено - False).\n",
        "в залежності від результату функції, виведіть на екран повідомлення про успішний або ж неуспішний пошук.\n",
        "Зауваження: використовувати оператор in заборонено."
      ],
      "metadata": {
        "id": "RMiCcdOsBKQT"
      }
    },
    {
      "cell_type": "code",
      "source": [
        "def binary_search(sorted_list, target):\n",
        "    low = 0\n",
        "    high = len(sorted_list) - 1\n",
        "\n",
        "    while low <= high:\n",
        "        mid = (low + high) // 2\n",
        "        if sorted_list[mid] == target:\n",
        "            return True\n",
        "        elif sorted_list[mid] < target:\n",
        "            low = mid + 1\n",
        "        else:\n",
        "            high = mid - 1\n",
        "\n",
        "    return False\n",
        "\n",
        "numbers = [1, 3, 5, 7, 9, 11, 13, 15, 17, 19]\n",
        "num = int(input('Введіть число для пошуку: '))\n",
        "\n",
        "found = binary_search(numbers, num)\n",
        "\n",
        "if found:\n",
        "    print('Пошук успішний: число знайдено.')\n",
        "else:\n",
        "    print('Пошук неуспішний: число не знайдено.')"
      ],
      "metadata": {
        "id": "UNCZg65OBOy-",
        "colab": {
          "base_uri": "https://localhost:8080/"
        },
        "outputId": "ed37e5ec-8cfb-419d-dc8e-31b21a28d6a5"
      },
      "execution_count": 12,
      "outputs": [
        {
          "output_type": "stream",
          "name": "stdout",
          "text": [
            "Введіть число для пошуку: 6\n",
            "Пошук неуспішний: число не знайдено.\n"
          ]
        }
      ]
    },
    {
      "cell_type": "markdown",
      "source": [
        "# II. Lambda functions."
      ],
      "metadata": {
        "id": "Ae1n_OvLBTsy"
      }
    },
    {
      "cell_type": "markdown",
      "source": [
        "8. (4б) В яких випадках варто використовувати лямбда-функції?"
      ],
      "metadata": {
        "id": "xaD_wSlaCWen"
      }
    },
    {
      "cell_type": "markdown",
      "source": [
        "Лямбда-функції варто використовувати, коли потрібна маленька одноразова функція, наприклад, для map(), filter(), sorted(), або щоб швидко зробити обчислення без створення повноцінної функції."
      ],
      "metadata": {
        "id": "42MB6OoLCakR"
      }
    },
    {
      "cell_type": "markdown",
      "source": [
        "9. (9б) Визначте список з рядками. Після цього визначте анонімну функцію для отримання першого символу у верхньому регістрі для кожного рядка списку.\n",
        "Підказка: використовуйте анонімну функцію в якості агрумента до вбудованої ф-ції, яка створена для застосування функцій над iterable обʼєктами. Результат виведіть на екран у вигляді кортежу."
      ],
      "metadata": {
        "id": "USrzrk7GCedk"
      }
    },
    {
      "cell_type": "code",
      "source": [
        "words = ['hello', 'world', 'python', 'anonymous', 'function']\n",
        "result = tuple(map(lambda s: s[0].upper(), words))\n",
        "\n",
        "print(result)"
      ],
      "metadata": {
        "id": "M8QWUsMlCjWH",
        "colab": {
          "base_uri": "https://localhost:8080/"
        },
        "outputId": "51586a75-8c74-4c48-c059-cdb0c5ba53a4"
      },
      "execution_count": 13,
      "outputs": [
        {
          "output_type": "stream",
          "name": "stdout",
          "text": [
            "('H', 'W', 'P', 'A', 'F')\n"
          ]
        }
      ]
    },
    {
      "cell_type": "markdown",
      "source": [
        "10. (10б) Визначте список з числовими значеннями (і цілими, і з рухомою комою). а) Відфільтруйте всі числа, які діляться націло на 3 за допомогою вбудованої функції та анонімної функції в якості аргумента). Збережіть результат у змінній, не приводяти явно до будь-якого типу. б) Використовуючи результат на кроці 12.а у якості аргументу, та за допомогою лямбда-функції в якості іншого аргументу до вбудованої функції, додайте до кожного елементу число 1 та опісля зведіть у квадрат. Остаточний результат приведіть явно до списку та виведіть на екран."
      ],
      "metadata": {
        "id": "9fyUhXOoCtGp"
      }
    },
    {
      "cell_type": "code",
      "source": [
        "numbers = [1, 2, 3, 4.0, 6.0, 9, 15.0, 2.7, 12.0, 18]\n",
        "filtered_result = filter(lambda x: x % 3 == 0, numbers)\n",
        "final_result = list(map(lambda x: (x + 1) ** 2, filtered_result))\n",
        "print(final_result)"
      ],
      "metadata": {
        "id": "exEx2_okCsql",
        "colab": {
          "base_uri": "https://localhost:8080/"
        },
        "outputId": "24534645-578e-4ca7-fa13-a6848b75ebe4"
      },
      "execution_count": 14,
      "outputs": [
        {
          "output_type": "stream",
          "name": "stdout",
          "text": [
            "[16, 49.0, 100, 256.0, 169.0, 361]\n"
          ]
        }
      ]
    },
    {
      "cell_type": "markdown",
      "source": [
        "# III. Decorators."
      ],
      "metadata": {
        "id": "o_x8cG_WC7jp"
      }
    },
    {
      "cell_type": "markdown",
      "source": [
        "11. (11б) Визначте декоратор, який би виводив у консоль повідомлення про початок роботи і назву функції (напр. my_function._ _ name _ _), а після відпрацювання функції - повідомлення про закінчення роботи і назву функції, що задекорована."
      ],
      "metadata": {
        "id": "mhxS4-mfC8LQ"
      }
    },
    {
      "cell_type": "code",
      "source": [
        "def my_decorator(func):\n",
        "    def wrapper(*args, **kwargs):\n",
        "        print('Початок роботи', func.__name__)\n",
        "        result = func(*args, **kwargs)\n",
        "        print('Закінчення роботи', func.__name__)\n",
        "        return result\n",
        "    return wrapper"
      ],
      "metadata": {
        "id": "srd1ygWjDGhO"
      },
      "execution_count": 19,
      "outputs": []
    },
    {
      "cell_type": "markdown",
      "source": [
        "12. (4б) Задекоруйте двома різними способами функції з завдання 4 та 5 декоратором із завдання 11. (**УВАГА**: не декоруйте функції двічі!)."
      ],
      "metadata": {
        "id": "rxGZwVBiDph3"
      }
    },
    {
      "cell_type": "code",
      "source": [
        "@my_decorator\n",
        "def divide(x, y):\n",
        "    if y == 0:\n",
        "        return None\n",
        "    return x / y\n",
        "def subtract(x, y=1):\n",
        "    return x - y\n",
        "subtract = my_decorator(subtract)"
      ],
      "metadata": {
        "id": "06lj7eq_DwZe"
      },
      "execution_count": 22,
      "outputs": []
    },
    {
      "cell_type": "markdown",
      "source": [
        "13. (2б) Викличте одну з задекорованих функцій і виведіть її результат на екран."
      ],
      "metadata": {
        "id": "P0ep1urBDzf-"
      }
    },
    {
      "cell_type": "code",
      "source": [
        "print(divide(10, 2))"
      ],
      "metadata": {
        "id": "1QvTw0ctD0S3",
        "colab": {
          "base_uri": "https://localhost:8080/"
        },
        "outputId": "4b74d714-96b1-4011-82b0-46ed603f72cb"
      },
      "execution_count": 21,
      "outputs": [
        {
          "output_type": "stream",
          "name": "stdout",
          "text": [
            "Початок роботи divide\n",
            "Закінчення роботи divide\n",
            "5.0\n"
          ]
        }
      ]
    },
    {
      "cell_type": "markdown",
      "source": [
        "# IV. Recursion."
      ],
      "metadata": {
        "id": "poECCpuoD2S9"
      }
    },
    {
      "cell_type": "markdown",
      "source": [
        "14. (4б) Назвіть дві частини функції, які є обовʼязковими для того, щоб називати її рекурсивною."
      ],
      "metadata": {
        "id": "DqkURfdsD7MY"
      }
    },
    {
      "cell_type": "markdown",
      "source": [
        "Функція є рекурсивною, якщо вона викликає саму себе і має умову зупинки, щоб не зациклюватися."
      ],
      "metadata": {
        "id": "HYW6ttIeIQIU"
      }
    },
    {
      "cell_type": "markdown",
      "source": [
        "15. (15б) Визначте функцію, яка рекурсивно реалізовує пошук числа у послідовності Фібоначчі за її індексом (нумерація починається з нуля). Наприклад, потрібно знайти перше число у послідовності, тоді функція прийматиме 0 у якості аргумента і повертатиме 1, якщо ж знаходити третє число (індекс 2) послідовності, то функція повертатиме 2, якщо ж знаходити десяте число (індекс 9), то функція повертатиме 55."
      ],
      "metadata": {
        "id": "WYVt20UmEA35"
      }
    },
    {
      "cell_type": "code",
      "source": [
        "def fibonacci(n):\n",
        "   if n < 2:\n",
        "        return 1\n",
        "   return fibonacci(n - 1) + fibonacci(n - 2)\n",
        "print(fibonacci(9))"
      ],
      "metadata": {
        "id": "xIMhp05AIpV_",
        "colab": {
          "base_uri": "https://localhost:8080/"
        },
        "outputId": "bb790bb6-40b2-42d9-c4cc-6b97973c2f44"
      },
      "execution_count": 23,
      "outputs": [
        {
          "output_type": "stream",
          "name": "stdout",
          "text": [
            "55\n"
          ]
        }
      ]
    },
    {
      "cell_type": "markdown",
      "source": [
        "# Вітаю! Ви велика(ий) молодець, що впоралась(вся). Похваліть себе та побалуйте чимось приємним. Я Вами пишаюся."
      ],
      "metadata": {
        "id": "ytXC8n_4Ip0W"
      }
    }
  ]
}